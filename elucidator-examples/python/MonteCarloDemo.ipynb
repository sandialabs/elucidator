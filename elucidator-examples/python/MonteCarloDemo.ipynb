{
 "cells": [
  {
   "cell_type": "code",
   "execution_count": null,
   "id": "3f1e7fc0-09fc-4377-aa52-02040b6957f0",
   "metadata": {},
   "outputs": [],
   "source": [
    "import numpy as np\n",
    "import matplotlib.pyplot as plt\n",
    "import matplotlib.animation as animation\n",
    "from IPython.display import HTML\n",
    "from pyelucidator import Point, BoundingBox, Session\n",
    "from struct import pack\n",
    "from scipy import stats\n",
    "import time"
   ]
  },
  {
   "cell_type": "code",
   "execution_count": null,
   "id": "54bb2613-9170-43f5-ad4f-8d8ec525ec46",
   "metadata": {},
   "outputs": [],
   "source": [
    "%matplotlib\n",
    "plt.rcParams['animation.embed_limit'] = 2**128\n",
    "plt.rcParams['text.usetex'] = True"
   ]
  },
  {
   "cell_type": "code",
   "execution_count": null,
   "id": "685cfe80-bcc9-461c-9256-4b1291077cdc",
   "metadata": {},
   "outputs": [],
   "source": [
    "def hits_misses_until(t: float, session: Session) -> tuple[int, int]:\n",
    "    lower = Point(-1.0, -1.0, -1.0, 0.0)\n",
    "    upper = Point(1.0, 1.0, 1.0, t)\n",
    "    bb = BoundingBox(lower, upper)\n",
    "    states = session.get_metadata(\"state\", bb)\n",
    "    hits = 0\n",
    "    misses = 0\n",
    "    for state in states:\n",
    "        hits += state[\"hits\"]\n",
    "        misses += state[\"misses\"]\n",
    "    return hits, misses\n",
    "\n",
    "def estimate_pi_at_t(t: float, session: Session) -> float:\n",
    "    hits, misses = hits_misses_until(t, session)\n",
    "    if hits + misses == 0:\n",
    "        return 0\n",
    "    return hits / (hits + misses) * 4\n",
    "\n",
    "def calculate_ci_at_t(t: float, ci: float, session: Session) -> float:\n",
    "    hits, misses = hits_misses_until(t, session)\n",
    "    z_score = stats.norm.ppf(1 - (1-ci)/2)\n",
    "    p = hits / (hits + misses)\n",
    "    se = np.sqrt(p*(1-p)/(hits+misses))\n",
    "    pi_upper_bound = 4 * (p + z_score * se)\n",
    "    pi_lower_bound = 4 * (p - z_score * se)\n",
    "    return pi_upper_bound, pi_lower_bound\n",
    "    \n",
    "\n",
    "class MonteCarloSimulation:\n",
    "    def __init__(self, points_per_step=5):\n",
    "        self.points_per_step = points_per_step\n",
    "        self.fig, self.ax = plt.subplots(figsize=(6, 6))\n",
    "        self.reset()\n",
    "\n",
    "    def reset(self):\n",
    "        self.session = Session()\n",
    "        self.session.add_designation(\"state\", \"hits: u64, misses: u64\")\n",
    "\n",
    "        self.ax.clear()\n",
    "        # Create an array of angles from 0 to 2π\n",
    "        theta = np.linspace(0, 2 * np.pi, 100)\n",
    "        \n",
    "        # Parametric equations for the unit circle\n",
    "        x = np.cos(theta)\n",
    "        y = np.sin(theta)\n",
    "        \n",
    "        # Plot the unit circle\n",
    "        self.ax.plot(x, y, color='b')\n",
    "        self.ax.fill(x, y, color='lightblue', alpha=0.5)  # Fill the circle\n",
    "        self.ax.axhline(0, color='black', linewidth=0.5, ls='--')\n",
    "        self.ax.axvline(0, color='black', linewidth=0.5, ls='--')\n",
    "        self.ax.grid(color='gray', linestyle='--', linewidth=0.5)\n",
    "        self.ax.set_aspect('equal', adjustable='box')\n",
    "        self.ax.set_xlim(-1, 1)\n",
    "        self.ax.set_ylim(-1, 1)\n",
    "\n",
    "        self.inside, = self.ax.plot([], [], 'rx')\n",
    "        self.outside, = self.ax.plot([], [], 'bx')\n",
    "        return self.inside, self.outside\n",
    "\n",
    "    def run_step(self, t):\n",
    "        # Generate random points\n",
    "        points = 2 * np.random.rand(self.points_per_step, 2) - 1\n",
    "        hits = np.linalg.norm(points, axis=1) < 1\n",
    "        misses = ~hits\n",
    "\n",
    "        # Insert data with 'elucidator'\n",
    "        lower = Point(-1.0, -1.0, -1.0, t)\n",
    "        upper = Point(1.0, 1.0, 1.0, t + 1.0)\n",
    "        bb = BoundingBox(lower, upper)\n",
    "        blob = pack('<QQ', sum(hits), sum(misses))\n",
    "        self.session.insert_metadata(\"state\", bb, blob)\n",
    "\n",
    "        return points[hits], points[misses]\n",
    "\n",
    "\n",
    "    def update(self, frame):\n",
    "        hits, misses = self.run_step(frame)  # Pass the current frame as time t\n",
    "        self.inside.set_data(\n",
    "            np.append(self.inside.get_data(), hits.T, axis=1)\n",
    "        )\n",
    "        self.outside.set_data(\n",
    "            np.append(self.outside.get_data(), misses.T, axis=1)\n",
    "        )\n",
    "        return self.inside, self.outside\n",
    "\n",
    "    def animate(self, num_frames=100):\n",
    "        ani = animation.FuncAnimation(\n",
    "            self.fig, self.update, frames=num_frames, init_func=self.reset, blit=True, interval=50\n",
    "        )\n",
    "        # Display the animation\n",
    "        plt.close(self.fig)  # Prevents static display of the figure\n",
    "        return HTML(ani.to_jshtml())"
   ]
  },
  {
   "cell_type": "code",
   "execution_count": null,
   "id": "b7c64441-05f2-44b4-8622-462d48f866cd",
   "metadata": {},
   "outputs": [],
   "source": [
    "FRAMES = 100\n",
    "POINTS_PER_STEP = 5"
   ]
  },
  {
   "cell_type": "code",
   "execution_count": null,
   "id": "2c0d7306-3d75-4ad4-bff6-3736b781e807",
   "metadata": {},
   "outputs": [],
   "source": [
    "# Create and show the animation\n",
    "simulation = MonteCarloSimulation(points_per_step=POINTS_PER_STEP)\n",
    "simulation.animate(num_frames=FRAMES)"
   ]
  },
  {
   "cell_type": "code",
   "execution_count": null,
   "id": "8564b5e6-4957-4e14-8c7f-327ac1c966a3",
   "metadata": {},
   "outputs": [],
   "source": [
    "t_vals = np.linspace(1, FRAMES, 100)\n",
    "ci_95_vals = np.array([calculate_ci_at_t(t, .95, simulation.session) for t in t_vals])\n",
    "pi_vals = np.array([estimate_pi_at_t(t, simulation.session) for t in t_vals])"
   ]
  },
  {
   "cell_type": "code",
   "execution_count": null,
   "id": "edd2db7e-2923-4971-a88b-14e11a2d6d67",
   "metadata": {},
   "outputs": [],
   "source": [
    "plt.axhline(np.pi, linestyle='dashed', label='$\\pi$', color='black', linewidth=1)\n",
    "plt.plot(t_vals, pi_vals, linestyle='dotted', color='blue', markersize=2, label=\"$\\hat{\\pi}$\")\n",
    "plt.plot(t_vals, ci_95_vals[:, 0], linestyle='solid', color='royalblue', markersize=1, label=\"95\\% CI\")\n",
    "plt.plot(t_vals, ci_95_vals[:, 1], linestyle='solid', color='royalblue', markersize=1)\n",
    "\n",
    "plt.fill_between(t_vals, ci_95_vals[:, 0], ci_95_vals[:, 1], color='lightblue', alpha=0.3)\n",
    "\n",
    "plt.grid(color='gray', linestyle='--', linewidth=0.2)\n",
    "plt.ylim(2.5, 3.5)\n",
    "plt.legend()\n",
    "plt.show()"
   ]
  },
  {
   "cell_type": "code",
   "execution_count": null,
   "id": "e02d28bd-fad0-4ef1-85af-ab61cf66009c",
   "metadata": {},
   "outputs": [],
   "source": [
    "# Final estimate\n",
    "pi_vals[-1]"
   ]
  },
  {
   "cell_type": "code",
   "execution_count": null,
   "id": "b6d2dc24-4daa-40a9-b431-ff2824e75986",
   "metadata": {},
   "outputs": [],
   "source": [
    "# Final 95% CI values\n",
    "ci_95_vals[-1]"
   ]
  },
  {
   "cell_type": "code",
   "execution_count": null,
   "id": "40a7c1f7-68c2-4b7b-8ccd-df299d4f9601",
   "metadata": {},
   "outputs": [],
   "source": []
  }
 ],
 "metadata": {
  "kernelspec": {
   "display_name": "Python 3 (ipykernel)",
   "language": "python",
   "name": "python3"
  },
  "language_info": {
   "codemirror_mode": {
    "name": "ipython",
    "version": 3
   },
   "file_extension": ".py",
   "mimetype": "text/x-python",
   "name": "python",
   "nbconvert_exporter": "python",
   "pygments_lexer": "ipython3",
   "version": "3.10.15"
  }
 },
 "nbformat": 4,
 "nbformat_minor": 5
}
